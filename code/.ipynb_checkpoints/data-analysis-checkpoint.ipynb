{
 "cells": [
  {
   "cell_type": "markdown",
   "id": "e2793e8a",
   "metadata": {},
   "source": [
    "# Data analysis and visualization"
   ]
  },
  {
   "cell_type": "markdown",
   "id": "997632e8",
   "metadata": {},
   "source": [
    "This script contains the code for analyzing and visualizing the data from the UNHCR datasets."
   ]
  },
  {
   "cell_type": "markdown",
   "id": "83288853",
   "metadata": {},
   "source": [
    "***"
   ]
  },
  {
   "cell_type": "markdown",
   "id": "2c33782b",
   "metadata": {},
   "source": [
    "### Packages and settings"
   ]
  },
  {
   "cell_type": "code",
   "execution_count": 1,
   "id": "790b212b",
   "metadata": {},
   "outputs": [],
   "source": [
    "import pandas as pd\n",
    "pd.options.display.float_format = '{:.2f}'.format # Avoid scientific notation"
   ]
  },
  {
   "cell_type": "markdown",
   "id": "c72cdf88",
   "metadata": {},
   "source": [
    "*********"
   ]
  },
  {
   "cell_type": "markdown",
   "id": "55c4a4a5",
   "metadata": {},
   "source": [
    "## Data sources"
   ]
  },
  {
   "cell_type": "markdown",
   "id": "358f907f",
   "metadata": {},
   "source": [
    "### 1. UNHCR refugees and asylum seekers estimates"
   ]
  },
  {
   "cell_type": "code",
   "execution_count": 2,
   "id": "fcd142cc",
   "metadata": {},
   "outputs": [],
   "source": [
    "UNHCR = pd.read_csv(\"../data/unhcr-refugees/population.csv\")"
   ]
  },
  {
   "cell_type": "code",
   "execution_count": 3,
   "id": "124f9a4e",
   "metadata": {},
   "outputs": [
    {
     "data": {
      "text/html": [
       "<div>\n",
       "<style scoped>\n",
       "    .dataframe tbody tr th:only-of-type {\n",
       "        vertical-align: middle;\n",
       "    }\n",
       "\n",
       "    .dataframe tbody tr th {\n",
       "        vertical-align: top;\n",
       "    }\n",
       "\n",
       "    .dataframe thead th {\n",
       "        text-align: right;\n",
       "    }\n",
       "</style>\n",
       "<table border=\"1\" class=\"dataframe\">\n",
       "  <thead>\n",
       "    <tr style=\"text-align: right;\">\n",
       "      <th></th>\n",
       "      <th>Year</th>\n",
       "      <th>Country of origin</th>\n",
       "      <th>Country of origin (ISO)</th>\n",
       "      <th>Country of asylum</th>\n",
       "      <th>Country of asylum (ISO)</th>\n",
       "      <th>Refugees under UNHCR's mandate</th>\n",
       "      <th>Asylum-seekers</th>\n",
       "      <th>Returned refugees</th>\n",
       "      <th>IDPs of concern to UNHCR</th>\n",
       "      <th>Returned IDPss</th>\n",
       "      <th>Stateless persons</th>\n",
       "      <th>Others of concern</th>\n",
       "      <th>Other people in need of international protection</th>\n",
       "      <th>Host Community</th>\n",
       "    </tr>\n",
       "  </thead>\n",
       "  <tbody>\n",
       "    <tr>\n",
       "      <th>68</th>\n",
       "      <td>2019</td>\n",
       "      <td>-</td>\n",
       "      <td>-</td>\n",
       "      <td>-</td>\n",
       "      <td>-</td>\n",
       "      <td>20414669</td>\n",
       "      <td>4148141</td>\n",
       "      <td>317181</td>\n",
       "      <td>43503362</td>\n",
       "      <td>5343793</td>\n",
       "      <td>4217774</td>\n",
       "      <td>3857179</td>\n",
       "      <td>3582202</td>\n",
       "      <td>2304506</td>\n",
       "    </tr>\n",
       "    <tr>\n",
       "      <th>69</th>\n",
       "      <td>2020</td>\n",
       "      <td>-</td>\n",
       "      <td>-</td>\n",
       "      <td>-</td>\n",
       "      <td>-</td>\n",
       "      <td>20661846</td>\n",
       "      <td>4184926</td>\n",
       "      <td>250951</td>\n",
       "      <td>48557439</td>\n",
       "      <td>3184118</td>\n",
       "      <td>4179331</td>\n",
       "      <td>3939756</td>\n",
       "      <td>3862102</td>\n",
       "      <td>4369021</td>\n",
       "    </tr>\n",
       "    <tr>\n",
       "      <th>70</th>\n",
       "      <td>2021</td>\n",
       "      <td>-</td>\n",
       "      <td>-</td>\n",
       "      <td>-</td>\n",
       "      <td>-</td>\n",
       "      <td>21327285</td>\n",
       "      <td>4616135</td>\n",
       "      <td>429234</td>\n",
       "      <td>51322623</td>\n",
       "      <td>5265622</td>\n",
       "      <td>4338192</td>\n",
       "      <td>4223095</td>\n",
       "      <td>4406432</td>\n",
       "      <td>6731133</td>\n",
       "    </tr>\n",
       "    <tr>\n",
       "      <th>71</th>\n",
       "      <td>2022</td>\n",
       "      <td>-</td>\n",
       "      <td>-</td>\n",
       "      <td>-</td>\n",
       "      <td>-</td>\n",
       "      <td>29429078</td>\n",
       "      <td>5442319</td>\n",
       "      <td>1356261</td>\n",
       "      <td>57321197</td>\n",
       "      <td>8324166</td>\n",
       "      <td>4428314</td>\n",
       "      <td>6008804</td>\n",
       "      <td>5217456</td>\n",
       "      <td>23957770</td>\n",
       "    </tr>\n",
       "    <tr>\n",
       "      <th>72</th>\n",
       "      <td>2023</td>\n",
       "      <td>-</td>\n",
       "      <td>-</td>\n",
       "      <td>-</td>\n",
       "      <td>-</td>\n",
       "      <td>31637408</td>\n",
       "      <td>6858499</td>\n",
       "      <td>1052074</td>\n",
       "      <td>63251367</td>\n",
       "      <td>5092064</td>\n",
       "      <td>4358188</td>\n",
       "      <td>5945550</td>\n",
       "      <td>5755363</td>\n",
       "      <td>26095474</td>\n",
       "    </tr>\n",
       "  </tbody>\n",
       "</table>\n",
       "</div>"
      ],
      "text/plain": [
       "    Year Country of origin Country of origin (ISO) Country of asylum  \\\n",
       "68  2019                 -                       -                 -   \n",
       "69  2020                 -                       -                 -   \n",
       "70  2021                 -                       -                 -   \n",
       "71  2022                 -                       -                 -   \n",
       "72  2023                 -                       -                 -   \n",
       "\n",
       "   Country of asylum (ISO)  Refugees under UNHCR's mandate  Asylum-seekers  \\\n",
       "68                       -                        20414669         4148141   \n",
       "69                       -                        20661846         4184926   \n",
       "70                       -                        21327285         4616135   \n",
       "71                       -                        29429078         5442319   \n",
       "72                       -                        31637408         6858499   \n",
       "\n",
       "    Returned refugees  IDPs of concern to UNHCR  Returned IDPss  \\\n",
       "68             317181                  43503362         5343793   \n",
       "69             250951                  48557439         3184118   \n",
       "70             429234                  51322623         5265622   \n",
       "71            1356261                  57321197         8324166   \n",
       "72            1052074                  63251367         5092064   \n",
       "\n",
       "    Stateless persons  Others of concern  \\\n",
       "68            4217774            3857179   \n",
       "69            4179331            3939756   \n",
       "70            4338192            4223095   \n",
       "71            4428314            6008804   \n",
       "72            4358188            5945550   \n",
       "\n",
       "   Other people in need of international protection  Host Community  \n",
       "68                                          3582202         2304506  \n",
       "69                                          3862102         4369021  \n",
       "70                                          4406432         6731133  \n",
       "71                                          5217456        23957770  \n",
       "72                                          5755363        26095474  "
      ]
     },
     "execution_count": 3,
     "metadata": {},
     "output_type": "execute_result"
    }
   ],
   "source": [
    "UNHCR.tail()"
   ]
  },
  {
   "cell_type": "markdown",
   "id": "eac8fea6",
   "metadata": {},
   "source": [
    "### 2. UNRWA estimates"
   ]
  },
  {
   "cell_type": "code",
   "execution_count": 4,
   "id": "358c6403",
   "metadata": {},
   "outputs": [],
   "source": [
    "UNRWA = pd.read_csv(\"../data/unrwa-refugees/unrwa.csv\",skiprows=14)"
   ]
  },
  {
   "cell_type": "code",
   "execution_count": 5,
   "id": "305b1a84",
   "metadata": {},
   "outputs": [
    {
     "data": {
      "text/html": [
       "<div>\n",
       "<style scoped>\n",
       "    .dataframe tbody tr th:only-of-type {\n",
       "        vertical-align: middle;\n",
       "    }\n",
       "\n",
       "    .dataframe tbody tr th {\n",
       "        vertical-align: top;\n",
       "    }\n",
       "\n",
       "    .dataframe thead th {\n",
       "        text-align: right;\n",
       "    }\n",
       "</style>\n",
       "<table border=\"1\" class=\"dataframe\">\n",
       "  <thead>\n",
       "    <tr style=\"text-align: right;\">\n",
       "      <th></th>\n",
       "      <th>Year</th>\n",
       "      <th>Country of origin</th>\n",
       "      <th>Country of origin (ISO)</th>\n",
       "      <th>Country of asylum</th>\n",
       "      <th>Country of asylum (ISO)</th>\n",
       "      <th>Total</th>\n",
       "    </tr>\n",
       "  </thead>\n",
       "  <tbody>\n",
       "    <tr>\n",
       "      <th>67</th>\n",
       "      <td>2019</td>\n",
       "      <td>-</td>\n",
       "      <td>-</td>\n",
       "      <td>-</td>\n",
       "      <td>-</td>\n",
       "      <td>5629829</td>\n",
       "    </tr>\n",
       "    <tr>\n",
       "      <th>68</th>\n",
       "      <td>2020</td>\n",
       "      <td>-</td>\n",
       "      <td>-</td>\n",
       "      <td>-</td>\n",
       "      <td>-</td>\n",
       "      <td>5703521</td>\n",
       "    </tr>\n",
       "    <tr>\n",
       "      <th>69</th>\n",
       "      <td>2021</td>\n",
       "      <td>-</td>\n",
       "      <td>-</td>\n",
       "      <td>-</td>\n",
       "      <td>-</td>\n",
       "      <td>5792907</td>\n",
       "    </tr>\n",
       "    <tr>\n",
       "      <th>70</th>\n",
       "      <td>2022</td>\n",
       "      <td>-</td>\n",
       "      <td>-</td>\n",
       "      <td>-</td>\n",
       "      <td>-</td>\n",
       "      <td>5887353</td>\n",
       "    </tr>\n",
       "    <tr>\n",
       "      <th>71</th>\n",
       "      <td>2023</td>\n",
       "      <td>-</td>\n",
       "      <td>-</td>\n",
       "      <td>-</td>\n",
       "      <td>-</td>\n",
       "      <td>5936247</td>\n",
       "    </tr>\n",
       "  </tbody>\n",
       "</table>\n",
       "</div>"
      ],
      "text/plain": [
       "    Year Country of origin Country of origin (ISO) Country of asylum  \\\n",
       "67  2019                 -                       -                 -   \n",
       "68  2020                 -                       -                 -   \n",
       "69  2021                 -                       -                 -   \n",
       "70  2022                 -                       -                 -   \n",
       "71  2023                 -                       -                 -   \n",
       "\n",
       "   Country of asylum (ISO)    Total  \n",
       "67                       -  5629829  \n",
       "68                       -  5703521  \n",
       "69                       -  5792907  \n",
       "70                       -  5887353  \n",
       "71                       -  5936247  "
      ]
     },
     "execution_count": 5,
     "metadata": {},
     "output_type": "execute_result"
    }
   ],
   "source": [
    "UNRWA.tail()"
   ]
  },
  {
   "cell_type": "markdown",
   "id": "dfb887db",
   "metadata": {},
   "source": [
    "### 3. IMDC internally displaced people estimates"
   ]
  },
  {
   "cell_type": "code",
   "execution_count": 6,
   "id": "9d529ecb",
   "metadata": {},
   "outputs": [],
   "source": [
    "IMDC = pd.read_csv(\"../data/internally-displaced-idmc/idmc.csv\")"
   ]
  },
  {
   "cell_type": "code",
   "execution_count": 7,
   "id": "551b9dd5",
   "metadata": {},
   "outputs": [
    {
     "data": {
      "text/html": [
       "<div>\n",
       "<style scoped>\n",
       "    .dataframe tbody tr th:only-of-type {\n",
       "        vertical-align: middle;\n",
       "    }\n",
       "\n",
       "    .dataframe tbody tr th {\n",
       "        vertical-align: top;\n",
       "    }\n",
       "\n",
       "    .dataframe thead th {\n",
       "        text-align: right;\n",
       "    }\n",
       "</style>\n",
       "<table border=\"1\" class=\"dataframe\">\n",
       "  <thead>\n",
       "    <tr style=\"text-align: right;\">\n",
       "      <th></th>\n",
       "      <th>Year</th>\n",
       "      <th>Country of origin</th>\n",
       "      <th>Country of origin (ISO)</th>\n",
       "      <th>Country of asylum</th>\n",
       "      <th>Country of asylum (ISO)</th>\n",
       "      <th>Total</th>\n",
       "    </tr>\n",
       "  </thead>\n",
       "  <tbody>\n",
       "    <tr>\n",
       "      <th>30</th>\n",
       "      <td>2019</td>\n",
       "      <td>-</td>\n",
       "      <td>-</td>\n",
       "      <td>-</td>\n",
       "      <td>-</td>\n",
       "      <td>45667305</td>\n",
       "    </tr>\n",
       "    <tr>\n",
       "      <th>31</th>\n",
       "      <td>2020</td>\n",
       "      <td>-</td>\n",
       "      <td>-</td>\n",
       "      <td>-</td>\n",
       "      <td>-</td>\n",
       "      <td>48027950</td>\n",
       "    </tr>\n",
       "    <tr>\n",
       "      <th>32</th>\n",
       "      <td>2021</td>\n",
       "      <td>-</td>\n",
       "      <td>-</td>\n",
       "      <td>-</td>\n",
       "      <td>-</td>\n",
       "      <td>53246765</td>\n",
       "    </tr>\n",
       "    <tr>\n",
       "      <th>33</th>\n",
       "      <td>2022</td>\n",
       "      <td>-</td>\n",
       "      <td>-</td>\n",
       "      <td>-</td>\n",
       "      <td>-</td>\n",
       "      <td>62500170</td>\n",
       "    </tr>\n",
       "    <tr>\n",
       "      <th>34</th>\n",
       "      <td>2023</td>\n",
       "      <td>-</td>\n",
       "      <td>-</td>\n",
       "      <td>-</td>\n",
       "      <td>-</td>\n",
       "      <td>68279000</td>\n",
       "    </tr>\n",
       "  </tbody>\n",
       "</table>\n",
       "</div>"
      ],
      "text/plain": [
       "    Year Country of origin Country of origin (ISO) Country of asylum  \\\n",
       "30  2019                 -                       -                 -   \n",
       "31  2020                 -                       -                 -   \n",
       "32  2021                 -                       -                 -   \n",
       "33  2022                 -                       -                 -   \n",
       "34  2023                 -                       -                 -   \n",
       "\n",
       "   Country of asylum (ISO)     Total  \n",
       "30                       -  45667305  \n",
       "31                       -  48027950  \n",
       "32                       -  53246765  \n",
       "33                       -  62500170  \n",
       "34                       -  68279000  "
      ]
     },
     "execution_count": 7,
     "metadata": {},
     "output_type": "execute_result"
    }
   ],
   "source": [
    "IMDC.tail()"
   ]
  },
  {
   "cell_type": "markdown",
   "id": "9873ccd0",
   "metadata": {},
   "source": [
    "### 4. UN population estimates"
   ]
  },
  {
   "cell_type": "code",
   "execution_count": 8,
   "id": "744b545d",
   "metadata": {},
   "outputs": [
    {
     "name": "stderr",
     "output_type": "stream",
     "text": [
      "/var/folders/yl/bd_xy2c53495c2z2g0w0yrzdtddnbq/T/ipykernel_77259/4225506290.py:1: DtypeWarning: Columns (2) have mixed types. Specify dtype option on import or set low_memory=False.\n",
      "  POP = pd.read_csv(\"../data/un-population-estimates.csv\")\n"
     ]
    }
   ],
   "source": [
    "POP = pd.read_csv(\"../data/un-population-estimates.csv\")"
   ]
  },
  {
   "cell_type": "code",
   "execution_count": 9,
   "id": "a9035664",
   "metadata": {},
   "outputs": [],
   "source": [
    "POP = POP[['Time', 'ISO3_code', 'Location', 'TPopulation1July']]"
   ]
  },
  {
   "cell_type": "code",
   "execution_count": 10,
   "id": "0258a49c",
   "metadata": {},
   "outputs": [],
   "source": [
    "# Value from thousands to total\n",
    "POP['TPopulation1July'] = POP['TPopulation1July'] * 1000"
   ]
  },
  {
   "cell_type": "code",
   "execution_count": 11,
   "id": "a85dbc34",
   "metadata": {},
   "outputs": [
    {
     "data": {
      "text/html": [
       "<div>\n",
       "<style scoped>\n",
       "    .dataframe tbody tr th:only-of-type {\n",
       "        vertical-align: middle;\n",
       "    }\n",
       "\n",
       "    .dataframe tbody tr th {\n",
       "        vertical-align: top;\n",
       "    }\n",
       "\n",
       "    .dataframe thead th {\n",
       "        text-align: right;\n",
       "    }\n",
       "</style>\n",
       "<table border=\"1\" class=\"dataframe\">\n",
       "  <thead>\n",
       "    <tr style=\"text-align: right;\">\n",
       "      <th></th>\n",
       "      <th>Time</th>\n",
       "      <th>ISO3_code</th>\n",
       "      <th>Location</th>\n",
       "      <th>TPopulation1July</th>\n",
       "    </tr>\n",
       "  </thead>\n",
       "  <tbody>\n",
       "    <tr>\n",
       "      <th>43467</th>\n",
       "      <td>2097</td>\n",
       "      <td>WLF</td>\n",
       "      <td>Wallis and Futuna Islands</td>\n",
       "      <td>10036.00</td>\n",
       "    </tr>\n",
       "    <tr>\n",
       "      <th>43468</th>\n",
       "      <td>2098</td>\n",
       "      <td>WLF</td>\n",
       "      <td>Wallis and Futuna Islands</td>\n",
       "      <td>9989.00</td>\n",
       "    </tr>\n",
       "    <tr>\n",
       "      <th>43469</th>\n",
       "      <td>2099</td>\n",
       "      <td>WLF</td>\n",
       "      <td>Wallis and Futuna Islands</td>\n",
       "      <td>9940.00</td>\n",
       "    </tr>\n",
       "    <tr>\n",
       "      <th>43470</th>\n",
       "      <td>2100</td>\n",
       "      <td>WLF</td>\n",
       "      <td>Wallis and Futuna Islands</td>\n",
       "      <td>9887.00</td>\n",
       "    </tr>\n",
       "    <tr>\n",
       "      <th>43471</th>\n",
       "      <td>2101</td>\n",
       "      <td>WLF</td>\n",
       "      <td>Wallis and Futuna Islands</td>\n",
       "      <td>NaN</td>\n",
       "    </tr>\n",
       "  </tbody>\n",
       "</table>\n",
       "</div>"
      ],
      "text/plain": [
       "       Time ISO3_code                   Location  TPopulation1July\n",
       "43467  2097       WLF  Wallis and Futuna Islands          10036.00\n",
       "43468  2098       WLF  Wallis and Futuna Islands           9989.00\n",
       "43469  2099       WLF  Wallis and Futuna Islands           9940.00\n",
       "43470  2100       WLF  Wallis and Futuna Islands           9887.00\n",
       "43471  2101       WLF  Wallis and Futuna Islands               NaN"
      ]
     },
     "execution_count": 11,
     "metadata": {},
     "output_type": "execute_result"
    }
   ],
   "source": [
    "POP.tail()"
   ]
  },
  {
   "cell_type": "markdown",
   "id": "f928e845",
   "metadata": {},
   "source": [
    "---"
   ]
  },
  {
   "cell_type": "markdown",
   "id": "1876400a",
   "metadata": {},
   "source": [
    "## Data wrangling"
   ]
  },
  {
   "cell_type": "markdown",
   "id": "fd335833",
   "metadata": {},
   "source": [
    "### 1. Share of world population that is displaced"
   ]
  },
  {
   "cell_type": "markdown",
   "id": "d62740d7",
   "metadata": {},
   "source": [
    "The count of displaced population includes:\n",
    "- Refugees and people in situation akin to refugees, under the mandate of the UNHCR\n",
    "- Refugees in the Palestinian Territories, under the mandate of the UNRWA\n",
    "- Asylum seekers and people in akin situations, according to the UNHCR\n",
    "- Internally displaced people, excluding those due to disasters, by the IDMC estimates.\n",
    "\n",
    "The displaced population at the end of each year is then divided by the United Nations populate estimations for the 1st of July in the same year."
   ]
  },
  {
   "cell_type": "markdown",
   "id": "d28ae186",
   "metadata": {},
   "source": [
    "One important notice is that some of this numbers differ from those in the 2023 report, despite supposedly coming from the same source. Some of this can be reasonably assumed to be due to rounding up to the ten thousands slot. Others, not.\n",
    "\n",
    "Namely, the data differs in the following entries in 2023:\n",
    "\n",
    "- **Refugees under UNHCR's mandate**: 31,639,000 in the report x 31,637,408 in the data. (1592 less in the data)\n",
    "- **Refugees under UNRWA's mandate**: 5,969,000 in the report x 5,936,247 in the data. (32573 less in the data)\n",
    "- **Asylum seekers**: 6,860,000 in the report x 6,858,499 in the data.  (1501 less in the data)\n",
    "- **Other people in need of protection** 5,755,000 in the report: x 5,755,363 in the data. (363 more in the data)\n",
    "- **Internally displaced (IDMC)**: 68,279,000 in the report x 68,279,000 in the data. (Same values)"
   ]
  },
  {
   "cell_type": "markdown",
   "id": "e081026a",
   "metadata": {},
   "source": [
    "For the year 2023, the report also made an adjustment: it estimated that 70% of the 1.7 million of people internally displaced in Gaza were already counted under the \"refugees under the URNWA's mandate\" label. Thus, this share (1.7 million * 0.7) was removed from the total displaced people in the year, avoiding double counting."
   ]
  },
  {
   "cell_type": "markdown",
   "id": "f85e4307",
   "metadata": {},
   "source": [
    "When this is accounted for, the numbers we arrive at are still not the same as the report. We arrived at 117,269,517. The report says it's 117,305,000. The total difference ammounts to 28,483 people (0.02% of the total reported).\n"
   ]
  },
  {
   "cell_type": "code",
   "execution_count": 110,
   "id": "c67a06b0",
   "metadata": {},
   "outputs": [],
   "source": [
    "def share_of_world_pop(unhcr, unrwa, imdc, pop):\n",
    "    \n",
    "    # Create a count of the affected population in each criteria for any give year from 2013 onwards\n",
    "\n",
    "    # Selects the valid entries from the UNHCR dataset\n",
    "    unhcr_ = unhcr.copy() # Local copy to avoid in place modification\n",
    "    unhcr_ = unhcr_[unhcr_.Year.isin(range(2014,2024))] # Last decade for comparisons\n",
    "    unhcr_ = unhcr_[['Year', 'Refugees under UNHCR\\'s mandate', 'Asylum-seekers', \n",
    "                     'Other people in need of international protection']]\n",
    "    \n",
    "    # Selects the refugees under the UNRWA authority (Palestinian territories)\n",
    "    unrwa_ = unrwa.copy()\n",
    "    unrwa_ = unrwa_[unrwa_.Year.isin(range(2014,2024))]\n",
    "    unrwa_ = unrwa_[['Year', 'Total']]\n",
    "    unrwa_ = unrwa_.rename(columns={'Total': 'Refugees under UNRWA\\'s mandate'})\n",
    "    \n",
    "    # Selects the internally displaced people according to the IMDC data\n",
    "    imdc_ = imdc.copy()\n",
    "    imdc_ = imdc_[imdc_.Year.isin(range(2014,2024))]\n",
    "    imdc_ = imdc_[['Year', 'Total']]\n",
    "    imdc_ = imdc_.rename(columns={'Total': 'IDP\\'s according to IMDC'})\n",
    "    \n",
    "    # Selects the population estimates for each year\n",
    "    pop_ = pop.copy()\n",
    "    pop_ = pop_[pop_.Time.isin(range(2014,2024))]\n",
    "    pop_ = pop_[pop_.Location=='World']\n",
    "    pop_ = pop_[['Time', 'TPopulation1July']]\n",
    "    pop_ = pop_.rename(columns={\"Time\": \"Year\", \"TPopulation1July\":\"Population\"})\n",
    "    \n",
    "    \n",
    "    # Merges everything by year\n",
    "    data = unhcr_.merge(unrwa_).merge(imdc_).merge(pop_)\n",
    "    data = data.replace(\"-\", 0).astype(float)\n",
    "        \n",
    "    # Computes total population displaced\n",
    "    data['Displaced population'] = data['Refugees under UNHCR\\'s mandate'] + data['Asylum-seekers'] + \\\n",
    "                                   data['Other people in need of international protection'] + \\\n",
    "                                   data['Refugees under UNRWA\\'s mandate'] + data['IDP\\'s according to IMDC']\n",
    "    \n",
    "    # In 2023, we have to make an adjustment to account for a methodology change than was described\n",
    "    # here: https://www.unhcr.org/refugee-statistics/insights/explainers/forcibly-displaced-pocs.html\n",
    "    # \"At the end of 2023, UNRWA estimates that 70 per cent of the 1.7 million IDPs in the Gaza Strip \n",
    "    # at end-2023 were Palestine refugees under its mandate. These internally displaced refugees under \n",
    "    # UNRWA’s mandate are only counted once in the global forcibly displaced total.\"\n",
    "    # So, for 2023, we will remove 1.7 million * 0.7 from the total displaced population\n",
    "    data.loc[data.Year==2023, 'Displaced population'] = data.loc[data.Year==2023, 'Displaced population'] - (1700000 * 0.7)\n",
    "        \n",
    "    # Compute the share of people per thousand that are displaced\n",
    "    data['Displaced per thousand'] = (data['Displaced population'] / data['Population']) * 1000\n",
    "    \n",
    "    # Formats year\n",
    "    data['Year'] = data.Year.astype(int)\n",
    "    \n",
    "    # Display, save and return variable\n",
    "    display(data)\n",
    "    data.to_csv(\"../output/Line chart – share of population forcibly displaced.csv\", index=False)\n",
    "    return data\n",
    "    \n",
    "    "
   ]
  },
  {
   "cell_type": "code",
   "execution_count": 111,
   "id": "7d945d16",
   "metadata": {},
   "outputs": [
    {
     "data": {
      "text/html": [
       "<div>\n",
       "<style scoped>\n",
       "    .dataframe tbody tr th:only-of-type {\n",
       "        vertical-align: middle;\n",
       "    }\n",
       "\n",
       "    .dataframe tbody tr th {\n",
       "        vertical-align: top;\n",
       "    }\n",
       "\n",
       "    .dataframe thead th {\n",
       "        text-align: right;\n",
       "    }\n",
       "</style>\n",
       "<table border=\"1\" class=\"dataframe\">\n",
       "  <thead>\n",
       "    <tr style=\"text-align: right;\">\n",
       "      <th></th>\n",
       "      <th>Year</th>\n",
       "      <th>Refugees under UNHCR's mandate</th>\n",
       "      <th>Asylum-seekers</th>\n",
       "      <th>Other people in need of international protection</th>\n",
       "      <th>Refugees under UNRWA's mandate</th>\n",
       "      <th>IDP's according to IMDC</th>\n",
       "      <th>Population</th>\n",
       "      <th>Displaced population</th>\n",
       "      <th>Displaced per thousand</th>\n",
       "    </tr>\n",
       "  </thead>\n",
       "  <tbody>\n",
       "    <tr>\n",
       "      <th>0</th>\n",
       "      <td>2014</td>\n",
       "      <td>14384289.00</td>\n",
       "      <td>1794704.00</td>\n",
       "      <td>0.00</td>\n",
       "      <td>5149742.00</td>\n",
       "      <td>37877320.00</td>\n",
       "      <td>7339013419.00</td>\n",
       "      <td>59206055.00</td>\n",
       "      <td>8.07</td>\n",
       "    </tr>\n",
       "    <tr>\n",
       "      <th>1</th>\n",
       "      <td>2015</td>\n",
       "      <td>16110276.00</td>\n",
       "      <td>3223460.00</td>\n",
       "      <td>0.00</td>\n",
       "      <td>5241257.00</td>\n",
       "      <td>40451900.00</td>\n",
       "      <td>7426597537.00</td>\n",
       "      <td>65026893.00</td>\n",
       "      <td>8.76</td>\n",
       "    </tr>\n",
       "    <tr>\n",
       "      <th>2</th>\n",
       "      <td>2016</td>\n",
       "      <td>17184286.00</td>\n",
       "      <td>2729521.00</td>\n",
       "      <td>0.00</td>\n",
       "      <td>5340443.00</td>\n",
       "      <td>40220850.00</td>\n",
       "      <td>7513474238.00</td>\n",
       "      <td>65475100.00</td>\n",
       "      <td>8.71</td>\n",
       "    </tr>\n",
       "    <tr>\n",
       "      <th>3</th>\n",
       "      <td>2017</td>\n",
       "      <td>19940566.00</td>\n",
       "      <td>3089507.00</td>\n",
       "      <td>0.00</td>\n",
       "      <td>5442947.00</td>\n",
       "      <td>39934042.00</td>\n",
       "      <td>7599822404.00</td>\n",
       "      <td>68407062.00</td>\n",
       "      <td>9.00</td>\n",
       "    </tr>\n",
       "    <tr>\n",
       "      <th>4</th>\n",
       "      <td>2018</td>\n",
       "      <td>20359553.00</td>\n",
       "      <td>3501629.00</td>\n",
       "      <td>2592947.00</td>\n",
       "      <td>5545538.00</td>\n",
       "      <td>41312940.00</td>\n",
       "      <td>7683789828.00</td>\n",
       "      <td>73312607.00</td>\n",
       "      <td>9.54</td>\n",
       "    </tr>\n",
       "    <tr>\n",
       "      <th>5</th>\n",
       "      <td>2019</td>\n",
       "      <td>20414669.00</td>\n",
       "      <td>4148141.00</td>\n",
       "      <td>3582202.00</td>\n",
       "      <td>5629829.00</td>\n",
       "      <td>45667305.00</td>\n",
       "      <td>7764951032.00</td>\n",
       "      <td>79442146.00</td>\n",
       "      <td>10.23</td>\n",
       "    </tr>\n",
       "    <tr>\n",
       "      <th>6</th>\n",
       "      <td>2020</td>\n",
       "      <td>20661846.00</td>\n",
       "      <td>4184926.00</td>\n",
       "      <td>3862102.00</td>\n",
       "      <td>5703521.00</td>\n",
       "      <td>48027950.00</td>\n",
       "      <td>7840952880.00</td>\n",
       "      <td>82440345.00</td>\n",
       "      <td>10.51</td>\n",
       "    </tr>\n",
       "    <tr>\n",
       "      <th>7</th>\n",
       "      <td>2021</td>\n",
       "      <td>21327285.00</td>\n",
       "      <td>4616135.00</td>\n",
       "      <td>4406432.00</td>\n",
       "      <td>5792907.00</td>\n",
       "      <td>53246765.00</td>\n",
       "      <td>7909295152.00</td>\n",
       "      <td>89389524.00</td>\n",
       "      <td>11.30</td>\n",
       "    </tr>\n",
       "    <tr>\n",
       "      <th>8</th>\n",
       "      <td>2022</td>\n",
       "      <td>29429078.00</td>\n",
       "      <td>5442319.00</td>\n",
       "      <td>5217456.00</td>\n",
       "      <td>5887353.00</td>\n",
       "      <td>62500170.00</td>\n",
       "      <td>7975105156.00</td>\n",
       "      <td>108476376.00</td>\n",
       "      <td>13.60</td>\n",
       "    </tr>\n",
       "    <tr>\n",
       "      <th>9</th>\n",
       "      <td>2023</td>\n",
       "      <td>31637408.00</td>\n",
       "      <td>6858499.00</td>\n",
       "      <td>5755363.00</td>\n",
       "      <td>5936247.00</td>\n",
       "      <td>68279000.00</td>\n",
       "      <td>8045311448.00</td>\n",
       "      <td>117276517.00</td>\n",
       "      <td>14.58</td>\n",
       "    </tr>\n",
       "  </tbody>\n",
       "</table>\n",
       "</div>"
      ],
      "text/plain": [
       "   Year  Refugees under UNHCR's mandate  Asylum-seekers  \\\n",
       "0  2014                     14384289.00      1794704.00   \n",
       "1  2015                     16110276.00      3223460.00   \n",
       "2  2016                     17184286.00      2729521.00   \n",
       "3  2017                     19940566.00      3089507.00   \n",
       "4  2018                     20359553.00      3501629.00   \n",
       "5  2019                     20414669.00      4148141.00   \n",
       "6  2020                     20661846.00      4184926.00   \n",
       "7  2021                     21327285.00      4616135.00   \n",
       "8  2022                     29429078.00      5442319.00   \n",
       "9  2023                     31637408.00      6858499.00   \n",
       "\n",
       "   Other people in need of international protection  \\\n",
       "0                                              0.00   \n",
       "1                                              0.00   \n",
       "2                                              0.00   \n",
       "3                                              0.00   \n",
       "4                                        2592947.00   \n",
       "5                                        3582202.00   \n",
       "6                                        3862102.00   \n",
       "7                                        4406432.00   \n",
       "8                                        5217456.00   \n",
       "9                                        5755363.00   \n",
       "\n",
       "   Refugees under UNRWA's mandate  IDP's according to IMDC    Population  \\\n",
       "0                      5149742.00              37877320.00 7339013419.00   \n",
       "1                      5241257.00              40451900.00 7426597537.00   \n",
       "2                      5340443.00              40220850.00 7513474238.00   \n",
       "3                      5442947.00              39934042.00 7599822404.00   \n",
       "4                      5545538.00              41312940.00 7683789828.00   \n",
       "5                      5629829.00              45667305.00 7764951032.00   \n",
       "6                      5703521.00              48027950.00 7840952880.00   \n",
       "7                      5792907.00              53246765.00 7909295152.00   \n",
       "8                      5887353.00              62500170.00 7975105156.00   \n",
       "9                      5936247.00              68279000.00 8045311448.00   \n",
       "\n",
       "   Displaced population  Displaced per thousand  \n",
       "0           59206055.00                    8.07  \n",
       "1           65026893.00                    8.76  \n",
       "2           65475100.00                    8.71  \n",
       "3           68407062.00                    9.00  \n",
       "4           73312607.00                    9.54  \n",
       "5           79442146.00                   10.23  \n",
       "6           82440345.00                   10.51  \n",
       "7           89389524.00                   11.30  \n",
       "8          108476376.00                   13.60  \n",
       "9          117276517.00                   14.58  "
      ]
     },
     "metadata": {},
     "output_type": "display_data"
    }
   ],
   "source": [
    "data = share_of_world_pop(UNHCR, UNRWA, IMDC, POP)"
   ]
  },
  {
   "cell_type": "code",
   "execution_count": 109,
   "id": "3e60c718",
   "metadata": {},
   "outputs": [
    {
     "data": {
      "text/plain": [
       "0   2014.00\n",
       "1   2015.00\n",
       "2   2016.00\n",
       "3   2017.00\n",
       "4   2018.00\n",
       "5   2019.00\n",
       "6   2020.00\n",
       "7   2021.00\n",
       "8   2022.00\n",
       "9   2023.00\n",
       "Name: Year, dtype: float64"
      ]
     },
     "execution_count": 109,
     "metadata": {},
     "output_type": "execute_result"
    }
   ],
   "source": [
    "data.Year"
   ]
  },
  {
   "cell_type": "markdown",
   "id": "cd138479",
   "metadata": {},
   "source": [
    "### 2. Of all the displaced people, how many are internal, how many are in neighboring countries and how many are in other countries?"
   ]
  },
  {
   "cell_type": "markdown",
   "id": "c3e3ba09",
   "metadata": {},
   "source": [
    "Here, we will use the 2023 data only. \n",
    "\n",
    "We will also need to account for the \"double conting\" of Palestinian refugees. To do so, we will remove 1.19 millon million (1.7 million * 0.7) from the refugee total, as explained above, so they are not doubly conted."
   ]
  },
  {
   "cell_type": "code",
   "execution_count": 54,
   "id": "57c4af44",
   "metadata": {},
   "outputs": [],
   "source": [
    "# Total displaced\n",
    "total_displaced = int(data.loc[data.Year==2023]['Displaced population'])\n",
    "\n",
    "# Total refugees\n",
    "unhcr_refugees = int(data.loc[data.Year==2023]['Refugees under UNHCR\\'s mandate'])\n",
    "unrwa_refugees = int(data.loc[data.Year==2023]['Refugees under UNRWA\\'s mandate'] - (1700000 * 0.7))\n",
    "other_people = int(data.loc[data.Year==2023]['Other people in need of international protection'])\n",
    "asylum_seekers = int(data.loc[data.Year==2023]['Asylum-seekers'])\n",
    "\n",
    "# Total internally displaced population\n",
    "internally_displaced = int(data.loc[data.Year==2023]['IDP\\'s according to IMDC'])"
   ]
  },
  {
   "cell_type": "code",
   "execution_count": 126,
   "id": "9595f65e",
   "metadata": {},
   "outputs": [],
   "source": [
    "# Total refugees\n",
    "# UNHCR's mandate + Other people in need of international protection + UNRWA's mandate - 1.19 million double counted\n",
    "total_refugees = unhcr_refugees + unrwa_refugees + other_people"
   ]
  },
  {
   "cell_type": "code",
   "execution_count": 127,
   "id": "ec048101",
   "metadata": {},
   "outputs": [],
   "source": [
    "# Check if the math we did is alright – that is, all displaced people are included in the sum\n",
    "assert(total_refugees + internally_displaced + asylum_seekers == total_displaced)"
   ]
  },
  {
   "cell_type": "markdown",
   "id": "7bae07e5",
   "metadata": {},
   "source": [
    "Now we can compute the share of displaced people in each category."
   ]
  },
  {
   "cell_type": "code",
   "execution_count": 131,
   "id": "9bd6fe4d",
   "metadata": {},
   "outputs": [],
   "source": [
    "# Dictionary to store the data\n",
    "shares = {}"
   ]
  },
  {
   "cell_type": "code",
   "execution_count": 139,
   "id": "23cb6ac7",
   "metadata": {},
   "outputs": [],
   "source": [
    "shares['Internally displaced'] = round(internally_displaced / total_displaced * 100, 2)\n",
    "shares['Refugees and people in need of international protection'] = round(total_refugees / total_displaced * 100, 2)\n",
    "shares['Asylum seekers'] = round(asylum_seekers / total_displaced * 100, 2)"
   ]
  },
  {
   "cell_type": "code",
   "execution_count": 140,
   "id": "1ee1addb",
   "metadata": {},
   "outputs": [],
   "source": [
    "assert (internally_displaced + total_refugees + asylum_seekers) == (total_displaced)"
   ]
  },
  {
   "cell_type": "code",
   "execution_count": 141,
   "id": "67f570c5",
   "metadata": {},
   "outputs": [
    {
     "data": {
      "text/plain": [
       "{'Internally displaced': 58.22,\n",
       " 'Refugees and people in need of international protection': 35.93,\n",
       " 'Asylum seekers': 5.85}"
      ]
     },
     "execution_count": 141,
     "metadata": {},
     "output_type": "execute_result"
    }
   ],
   "source": [
    "shares"
   ]
  },
  {
   "cell_type": "code",
   "execution_count": null,
   "id": "c243b062",
   "metadata": {},
   "outputs": [],
   "source": []
  },
  {
   "cell_type": "code",
   "execution_count": 134,
   "id": "fa6c53b5",
   "metadata": {},
   "outputs": [],
   "source": [
    "to_export = pd.DataFrame.from_dict(shares, orient='index').reset_index()\n",
    "to_export.to_csv(\"../output/pie-chart-shares-each-type.csv\", index=False)"
   ]
  },
  {
   "cell_type": "code",
   "execution_count": null,
   "id": "30d018d6",
   "metadata": {},
   "outputs": [],
   "source": []
  }
 ],
 "metadata": {
  "kernelspec": {
   "display_name": "Python 3 (ipykernel)",
   "language": "python",
   "name": "python3"
  },
  "language_info": {
   "codemirror_mode": {
    "name": "ipython",
    "version": 3
   },
   "file_extension": ".py",
   "mimetype": "text/x-python",
   "name": "python",
   "nbconvert_exporter": "python",
   "pygments_lexer": "ipython3",
   "version": "3.10.12"
  }
 },
 "nbformat": 4,
 "nbformat_minor": 5
}
